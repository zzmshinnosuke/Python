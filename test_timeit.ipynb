{
 "cells": [
  {
   "cell_type": "code",
   "execution_count": null,
   "metadata": {},
   "outputs": [],
   "source": [
    "#导入timeit.timeit\n",
    "from timeit import timeit \n",
    "\n",
    "#看执行1000000次x=1的时间：\n",
    "timeit('x=1')\n",
    "\n",
    "#看x=1的执行时间，执行1次(number可以省略，默认值为1000000)：\n",
    "timeit('x=1', number=1)\n",
    "\n",
    "#看一个列表生成器的执行时间,执行1次：\n",
    "timeit('[i for i in range(10000)]', number=1)\n",
    "\n",
    "#看一个列表生成器的执行时间,执行10000次：\n",
    "timeit('[i for i in range(100) if i%2==0]', number=1000000)"
   ]
  },
  {
   "cell_type": "code",
   "execution_count": null,
   "metadata": {},
   "outputs": [],
   "source": [
    "#测试函数执行时间\n",
    "from timeit import timeit\n",
    "\n",
    "def func():\n",
    "    s = 0\n",
    "    for i in range(1000):\n",
    "        s += i\n",
    "#     print(s)\n",
    "\n",
    "# timeit(函数名_字符串，运行环境_字符串，number=运行次数)\n",
    "t = timeit('func()', 'from __main__ import func', number=100000)\n",
    "print(t)"
   ]
  },
  {
   "cell_type": "code",
   "execution_count": null,
   "metadata": {},
   "outputs": [],
   "source": [
    "from timeit import repeat\n",
    "\n",
    "def func():\n",
    "    s = 0\n",
    "    for i in range(1000):\n",
    "        s += i\n",
    "\n",
    "#repeat和timeit用法相似，多了一个repeat参数，表示重复测试的次数(可以不写，默认值为3.)，返回值为一个时间的列表。\n",
    "t = repeat('func()', 'from __main__ import func', number=10000, repeat=10)\n",
    "print(t) \n",
    "print(min(t))"
   ]
  },
  {
   "cell_type": "code",
   "execution_count": null,
   "metadata": {},
   "outputs": [],
   "source": []
  }
 ],
 "metadata": {
  "kernelspec": {
   "display_name": "Python 3",
   "language": "python",
   "name": "python3"
  },
  "language_info": {
   "codemirror_mode": {
    "name": "ipython",
    "version": 3
   },
   "file_extension": ".py",
   "mimetype": "text/x-python",
   "name": "python",
   "nbconvert_exporter": "python",
   "pygments_lexer": "ipython3",
   "version": "3.7.9"
  }
 },
 "nbformat": 4,
 "nbformat_minor": 4
}
