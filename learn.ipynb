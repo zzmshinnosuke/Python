{
 "cells": [
  {
   "cell_type": "code",
   "execution_count": 19,
   "metadata": {},
   "outputs": [
    {
     "name": "stdout",
     "output_type": "stream",
     "text": [
      "inner: 2\n",
      "inin: 3\n",
      "ininout: 3\n",
      "outer: 3\n",
      "global: 0\n"
     ]
    }
   ],
   "source": [
    "'''\n",
    "Python nonlocal 和 global 两个关键字的区别\n",
    "简单总结：\n",
    "1）任何一层子函数，若直接使用全局变量且不对其改变的话，则共享全局变量的值；一旦子函数中改变该同名变量，则其降为该子函数所属的局部变量；\n",
    "2）global可以用于任何地方，声明变量为全局变量（声明时，不能同时赋值）；声明后再修改，则修改了全局变量的值；\n",
    "3）而nonlocal的作用范围仅对于所在子函数的上一层函数中拥有的局部变量，必须在上层函数中已经定义过，且非全局变量，否则报错。\n",
    "''' \n",
    "x = 0\n",
    "def outer():\n",
    "#     nonlocal x #会报错 SyntaxError: no binding for nonlocal 'x' found\n",
    "    x = 1\n",
    "    def inner():\n",
    "        nonlocal x\n",
    "        x = 2\n",
    "        print(\"inner:\", x)\n",
    "        \n",
    "        def inin():\n",
    "            nonlocal x\n",
    "            x = 3\n",
    "            print(\"inin:\", x)\n",
    "        inin()\n",
    "        print(\"ininout:\", x)\n",
    "\n",
    "    inner()\n",
    "    print(\"outer:\", x)\n",
    "\n",
    "outer()\n",
    "print(\"global:\", x)\n",
    "\n",
    "'''\n",
    "global vs nonlocal\n",
    "\n",
    "在Python中，global 和 nonlocal 的作用都是可以实现代码块内变量使用外部的同名变量，但其中是有很明显的区别的。\n",
    "而在谈到nonlocal与global的区别之前，我们应该了解python中引用变量的顺序是什么样的。\n",
    "python变量引用顺序：从当前作用域开始寻找变量，如果没找到就往上一层作用域寻找，依此上推一层。\n",
    "具体步骤：当前作用域局部变量->外层作用域变量->再外层作用域变量->…->当前模块全局变量->pyhton内置变量\n",
    "\n",
    "区别点:\n",
    "1.作用对象，作用域不同\n",
    "global的作用对象是全局变量， 作用域是全局的，就是会修改这个变量对应地址的值；\n",
    "nonlocal的作用对象是外部内嵌函数的变量（也就是闭包这种情况）。即是说，只在闭包里面生效，作用域就是闭包里面的，外函数和内函数都影响，但是闭包外面不影响。\n",
    "\n",
    "2.操作权限不同\n",
    "global可以改变全局变量，同时可以定义新的全局变量，\n",
    "nonlocal只能改变外层函数变量，不能定义新的外层函数变量，并且nonlocal也不能改变全局变量。\n",
    "\n",
    "3.声明不同\n",
    "global声名变量后，标志此变量为全局变量；\n",
    "nonlocal声名变量后，标志此变量为外层函数的局部变量，如果上一级函数中不存在该局部变量，nonlocal位置会发生错误。\n",
    "\n",
    "4.使用范围不同\n",
    "global关键字可以用在任何地方，包括最上层函数中和嵌套函数中，即使之前未定义该变量，global修饰后也可以直接使用；\n",
    "nonlocal关键字只能用于嵌套函数中，并且外层函数中必须定义了相应的局部变量，否则会发生错误。\n",
    "\n",
    "注意点\n",
    "本地的变量声明为global，就不能再声明为nonlocal\n",
    "使用nonlocal之前，需要初始化变量\n",
    "不能在函数的外部函数里声明nonlocal\n",
    "在实际的编程中，应该尽量避开使用 global关键字，因为它引入了多余的变量到全局作用域了。\n",
    "'''"
   ]
  },
  {
   "cell_type": "code",
   "execution_count": 20,
   "metadata": {},
   "outputs": [
    {
     "name": "stdout",
     "output_type": "stream",
     "text": [
      "[10, 0]\n",
      "[10, 20]\n",
      "[0, 20]\n"
     ]
    }
   ],
   "source": [
    "# 什么是闭包\n",
    "# https://zhuanlan.zhihu.com/p/453787908\n",
    "'''\n",
    "在一些语言中，在函数中可以（嵌套）定义另一个函数时，如果内部的函数引用了外部的函数的变量，则可能产生闭包。\n",
    "闭包可以用来在一个函数与一组“私有”变量之间创建关联关系。在给定函数被多次调用的过程中，这些私有变量能够保持其持久性。\n",
    "\n",
    "上面这段话实际上解释了闭包的一个定义和两个作用：\n",
    "    定义：闭包就是能够读取外部函数内的变量的函数。\n",
    "    作用1：闭包是将外层函数内的局部变量和外层函数的外部连接起来的一座桥梁。\n",
    "    作用2：将外层函数的变量持久地保存在内存中。\n",
    "'''\n",
    "def create(pos=[0,0]):\n",
    "    \n",
    "    def go(direction, step):\n",
    "        new_x = pos[0]+direction[0]*step\n",
    "        new_y = pos[1]+direction[1]*step\n",
    "        \n",
    "        pos[0] = new_x\n",
    "        pos[1] = new_y\n",
    "        \n",
    "        return pos\n",
    "    return go\n",
    "\n",
    "player = create()\n",
    "print(player([1,0],10))\n",
    "print(player([0,1],20))\n",
    "print(player([-1,0],10))"
   ]
  },
  {
   "cell_type": "code",
   "execution_count": 22,
   "metadata": {},
   "outputs": [
    {
     "name": "stdout",
     "output_type": "stream",
     "text": [
      "12\n",
      "6\n"
     ]
    }
   ],
   "source": [
    "# lambda 关键字的用法\n",
    "x = lambda a : a + 10\n",
    "print(x(2))\n",
    "\n",
    "y = lambda a, b, c : a + b + c\n",
    "print(y(1, 2, 3))"
   ]
  },
  {
   "cell_type": "code",
   "execution_count": 28,
   "metadata": {},
   "outputs": [
    {
     "name": "stdout",
     "output_type": "stream",
     "text": [
      "<class '__main__.MyClass'>\n",
      "['apple', 'banana']\n"
     ]
    }
   ],
   "source": [
    "# del 关键字\n",
    "class MyClass:\n",
    "    name = \"join\"\n",
    "print(MyClass)\n",
    "del MyClass\n",
    "# print(MyClass)\n",
    "\n",
    "x = 20\n",
    "del x\n",
    "\n",
    "y = [\"apple\", \"banana\", \"cherry\"]\n",
    "del y[2]\n",
    "print(y)\n"
   ]
  },
  {
   "cell_type": "code",
   "execution_count": 68,
   "metadata": {},
   "outputs": [
    {
     "name": "stdout",
     "output_type": "stream",
     "text": [
      "被装饰的函数 add 即将执行\n",
      "函数 add 正在执行 \n",
      "2 + 3 的结果为9\n",
      "被装饰的函数 add 执行完毕\n",
      "<function add at 0x7fb1046a5290>\n"
     ]
    }
   ],
   "source": [
    "# 函数装饰器\n",
    "# https://baijiahao.baidu.com/s?id=1707880370276559765&wfr=spider&for=pc\n",
    "import functools\n",
    "def first_decorator(func):\n",
    "    @functools.wraps(func)\n",
    "    def name_wrapper(*args, **kwargs): \n",
    "        print(f\"被装饰的函数 {func.__name__} 即将执行\")\n",
    "        func(*args, **kwargs)\n",
    "        print(f\"被装饰的函数 {func.__name__} 执行完毕\")\n",
    "    return name_wrapper\n",
    "@first_decorator\n",
    "def add(x, y, z):\n",
    "    print(\"函数 add 正在执行 \")\n",
    "    print(f\"{x} + {y} 的结果为{x+y+z}\")\n",
    "add(2, 3, 4)\n",
    "print(add)"
   ]
  },
  {
   "cell_type": "code",
   "execution_count": null,
   "metadata": {},
   "outputs": [],
   "source": [
    "def func1(a):\n",
    "    print(\"函数 {func1.__name__} 正在执行\")\n",
    "    def func2(b):   \n",
    "        print(\"函数 {func2.__name__} 正在执行\")\n",
    "        return a + b\n",
    "    return func2\n",
    "\n",
    "def main():\n",
    "    return 0\n",
    "\n",
    "class MyClass:\n",
    "    name = \"ss\"\n",
    "    \n",
    "    def fun(self):\n",
    "        pass\n",
    "\n",
    "func3 = func1(2)\n",
    "print(func3)\n",
    "print(dir(func1), func1.__name__)\n",
    "print(dir(MyClass), MyClass.__name__)"
   ]
  },
  {
   "cell_type": "code",
   "execution_count": 86,
   "metadata": {},
   "outputs": [
    {
     "name": "stdout",
     "output_type": "stream",
     "text": [
      "(1, 2, 3)\n",
      "{'name': 'mm', 'url': 'www.b.com'}\n",
      "1\n",
      "(2, 3)\n",
      "{'nn': 'haha'}\n"
     ]
    }
   ],
   "source": [
    "# python参数 (*参数，**参数)\n",
    "# *参数:将所有未匹配位置的参数放入一个元组(tuple)对象中\n",
    "# **参数:将所有未匹配位置的参数放入一个字典(dict)对象中\n",
    "\n",
    "def fun(*args):\n",
    "    print(args)\n",
    "\n",
    "def fun1(**kwargs):\n",
    "    print(kwargs)\n",
    "    \n",
    "def fun2(arg, *args, **kwargs):\n",
    "    print(arg)\n",
    "    print(args)\n",
    "    print(kwargs)\n",
    "\n",
    "fun(1, 2, 3)\n",
    "fun1(name = \"mm\", url = \"www.b.com\")\n",
    "fun2(1, 2, 3, nn = \"haha\")"
   ]
  },
  {
   "cell_type": "code",
   "execution_count": 87,
   "metadata": {},
   "outputs": [
    {
     "data": {
      "text/plain": [
       "'\\nFalse      await      else       import     pass\\nNone       break      except     in         raise\\nTrue       class      finally    is         return\\nand        continue   for        lambda     try\\nas         def        from       nonlocal   while\\nassert     del        global     not        with\\nasync      elif       if         or         yield\\n'"
      ]
     },
     "execution_count": 87,
     "metadata": {},
     "output_type": "execute_result"
    }
   ],
   "source": [
    "# python的35 keywords\n",
    "'''\n",
    "False      await      else       import     pass\n",
    "None       break      except     in         raise\n",
    "True       class      finally    is         return\n",
    "and        continue   for        lambda     try\n",
    "as         def        from       nonlocal   while\n",
    "assert     del        global     not        with\n",
    "async      elif       if         or         yield\n",
    "'''"
   ]
  },
  {
   "cell_type": "code",
   "execution_count": 96,
   "metadata": {},
   "outputs": [
    {
     "name": "stdout",
     "output_type": "stream",
     "text": [
      "a\\n <class 'str'>\n",
      "b'Hello World' <class 'bytes'>\n",
      "processing done in 1.00 s\n",
      "{name} done in {time.time() - t0:.2f} s\n"
     ]
    }
   ],
   "source": [
    "# python 字符串前加u、b、f、r等的作用\n",
    "'''\n",
    "1. 字符串前加u\n",
    "后面字符串以 Unicode 格式 进行编码，一般用在中文字符串前面，防止因为源码储存格式问题，导致再次使用时出现乱码。\n",
    "'''\n",
    "\n",
    "'''\n",
    "2. 字符串前加r\n",
    "去掉反斜杠的转移机制。\n",
    "(特殊字符：即那些，反斜杠加上对应字母，表示对应的特殊含义的，比如最常见的”\\n”表示换行，”\\t”表示Tab等。 )\n",
    "应用：\n",
    "常用于正则表达式，对应着re模块。\n",
    "'''\n",
    "s=r\"a\\n\"\n",
    "print(s, type(s))\n",
    "\n",
    "'''\n",
    "3. 字符串前加b\n",
    "b\" \"前缀表示：后面字符串是bytes 类型。\n",
    "用处：\n",
    "网络编程中，服务器和浏览器只认bytes 类型数据。\n",
    "'''\n",
    "b = b\"Hello World\"\n",
    "print(b, type(b))\n",
    "\n",
    "'''\n",
    "4. 字符串前加 f\n",
    "以 f开头表示在字符串内支持大括号内的python 表达式\n",
    "'''\n",
    "import time\n",
    "t0 = time.time()\n",
    "time.sleep(1)\n",
    "name = 'processing'\n",
    "print(f'{name} done in {time.time() - t0:.2f} s')\n",
    "print('{name} done in {time.time() - t0:.2f} s')"
   ]
  },
  {
   "cell_type": "code",
   "execution_count": null,
   "metadata": {},
   "outputs": [],
   "source": []
  }
 ],
 "metadata": {
  "kernelspec": {
   "display_name": "Python 3 (ipykernel)",
   "language": "python",
   "name": "python3"
  },
  "language_info": {
   "codemirror_mode": {
    "name": "ipython",
    "version": 3
   },
   "file_extension": ".py",
   "mimetype": "text/x-python",
   "name": "python",
   "nbconvert_exporter": "python",
   "pygments_lexer": "ipython3",
   "version": "3.8.3"
  }
 },
 "nbformat": 4,
 "nbformat_minor": 4
}
